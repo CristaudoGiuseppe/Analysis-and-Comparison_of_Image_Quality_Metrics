{
 "cells": [
  {
   "cell_type": "markdown",
   "id": "fe70c55a",
   "metadata": {},
   "source": [
    "# Definition and Analysis of Image Quality Assessments (IQA)\n",
    "\n",
    "### Abstract\n",
    "\n",
    "In this essay, the primary objective image quality measures are reviewed. Many image processing applications, including picture restoration, compression, acquisition, enhancement, and others, heavily rely on these metrics. Modern methodologies aim to establish the optimum balance between performance, complexity, and results that are closest to the Human Visual System. This work collects and groups reported quality measures according to their tactics and techniques and proposes a novel way for RGB pictures."
   ]
  },
  {
   "cell_type": "code",
   "execution_count": 1,
   "id": "a1be29d4",
   "metadata": {},
   "outputs": [],
   "source": [
    "# imports\n",
    "import numpy as np # used for calculations between matrix (images)\n",
    "import cv2 # computer vision library\n",
    "import matplotlib.pyplot as plt # used for plotting images and diagramas\n",
    "# as we are running code in Jupyter notebook\n",
    "%matplotlib inline  "
   ]
  },
  {
   "cell_type": "markdown",
   "id": "bde33d8b",
   "metadata": {},
   "source": [
    "### Utlities"
   ]
  },
  {
   "cell_type": "code",
   "execution_count": 2,
   "id": "f91ba069",
   "metadata": {},
   "outputs": [],
   "source": [
    "# PATHS\n",
    "reference_images_path = 'data/reference_images/'\n",
    "distorted_images_path = 'data/distorted_images/'"
   ]
  },
  {
   "cell_type": "code",
   "execution_count": 3,
   "id": "811bbb79",
   "metadata": {},
   "outputs": [],
   "source": [
    "# utils function used to check if original and distorted images have same size and same extension otherwise IQA can't be computed\n",
    "# O and D are images/np.arrays\n",
    "def check_images(O, D):\n",
    "    if O.dtype != D.dtype:\n",
    "        print(\"Original and Distorted images have different extensions\")\n",
    "        return False\n",
    "    if O.shape != D.shape:\n",
    "        print(\"Original and Distorted images have different shapes\")\n",
    "        return False\n",
    "    return True\n",
    "\n",
    "\n",
    "# computes the similiraty between two given matrix - C is used for stability and avoid dividing by zero\n",
    "def similarity_function(X, Y, C):\n",
    "    return ((2*X*Y+C)/(X**2+Y**2+C))"
   ]
  },
  {
   "cell_type": "markdown",
   "id": "01b1d4ab",
   "metadata": {},
   "source": [
    "## 1. Objective Metrics - Mathematical Metrics"
   ]
  },
  {
   "cell_type": "code",
   "execution_count": 4,
   "id": "5f88680b",
   "metadata": {},
   "outputs": [],
   "source": [
    "# MSE: measures the average of the squares of the errors\n",
    "# the average squared difference between the estimated values and the actual value\n",
    "# INPUT PARAMS: O (original image), D (distorted image) \n",
    "def mse(O, D): \n",
    "    if check_images(O, D):\n",
    "        return np.mean((O.astype(np.float64) - D.astype(np.float64))**2) # as we calculate the mean error float gives better performances\n",
    "    else:\n",
    "        return None"
   ]
  },
  {
   "cell_type": "code",
   "execution_count": 5,
   "id": "146415fb",
   "metadata": {},
   "outputs": [],
   "source": [
    "# RMSE: root square of MSE\n",
    "def rsme(O, D):\n",
    "    if check_images(O, D):\n",
    "        return np.sqrt(mse(O, D))\n",
    "    else:\n",
    "        return None"
   ]
  },
  {
   "cell_type": "code",
   "execution_count": 12,
   "id": "d587abc3",
   "metadata": {},
   "outputs": [],
   "source": [
    "# RSME SLIDIND WINDOW: compute the RSME using a ws*ws sliding window\n",
    "# INPUT PARAMS: O (original image), D (distorted image), ws (sliding window size)\n",
    "def rmse_sw(O, D, ws):\n",
    "    O = O.astype(np.float64)\n",
    "    D = D.astype(np.float64)\n",
    "    window = np.ones((ws, ws), dtype=np.float64)/ws**2 # mean filter\n",
    "    rmse = np.sqrt(cv2.filter2D((O - D)**2, -1, window)) # convolves an image with the kernel\n",
    "    \n",
    "    # to avoid edge effects will ignore filter radius strip around edges\n",
    "    pad = round((ws - 1) / 2)\n",
    "    return np.mean(rmse[pad:-pad,pad:-pad])"
   ]
  },
  {
   "cell_type": "code",
   "execution_count": 13,
   "id": "7a47c517",
   "metadata": {},
   "outputs": [],
   "source": [
    "# PSNR: measure similar to MSE espressed in decibels\n",
    "# higher the value of PSNR, the better will be the quality of the output image\n",
    "# INPUT PARAMS: O (original image), D (distorted image) \n",
    "def psnr(O, D, MAX = False):\n",
    "    if check_images(O, D):\n",
    "        if MAX:\n",
    "            return 10 * np.log10(np.max(O)**2 / mse(O, D))\n",
    "        return 10 * np.log10(255**2 / mse(O, D))\n",
    "    else:\n",
    "        return None"
   ]
  },
  {
   "cell_type": "markdown",
   "id": "4631eb16",
   "metadata": {},
   "source": [
    "## 2. Objective Metrics - Human Visual Systems (HVS)"
   ]
  },
  {
   "cell_type": "code",
   "execution_count": 14,
   "id": "a0396084",
   "metadata": {},
   "outputs": [],
   "source": [
    "# SSIM: structural similarity -> measure quality by capturing the similarity of images\n",
    "# similarity in luminance, contrast and structure\n",
    "# INPUT PARAMS: O (original image), D (distorted image)  ws (sliding window size)\n",
    "# K1 & K2 are used to compute C1 and C2 which provide stability and avoid dividing for 0\n",
    "# MAX if True uses the max intensity of the original image otherwise default is 255\n",
    "# Gaussian if True apply a Gaussian filter instead of mean filter (sometimes used in the literature) (default True)\n",
    "# cs if True return a parameter used in the MS-SSIM measure\n",
    "# _essim if True return a parameter used in the ESSIM measure\n",
    "def ssim(O, D, ws, K1 = 0.01, K2 = 0.02, MAX = False, Gaussian = True, cs = False, _essim = False):\n",
    "    if check_images(O, D):\n",
    "        O_gray = cv2.cvtColor(O, cv2.COLOR_BGR2GRAY).astype(np.float64)\n",
    "        D_gray = cv2.cvtColor(D, cv2.COLOR_BGR2GRAY).astype(np.float64)\n",
    "        \n",
    "        if MAX:\n",
    "            m = np.max(O_gray)\n",
    "        else:\n",
    "            m = 255\n",
    "        C1 = (K1 * m) ** 2\n",
    "        C2 = (K2 * m) ** 2\n",
    "        \n",
    "        if Gaussian:\n",
    "            # 1D kernel\n",
    "            kernel = cv2.getGaussianKernel(ws, round(ws/3.0) - 1) # the interval [-3sigma,+3 sigma] captures 99% of the area of the Faussian function\n",
    "            # 2D kernel\n",
    "            window = np.outer(kernel, kernel.transpose()) # compute the outer product of two vectors.\n",
    "        else:\n",
    "            window = np.ones((ws, ws), dtype=np.float64)/ws**2\n",
    "        pad = round((ws - 1) / 2)\n",
    "\n",
    "        mu_x = cv2.filter2D(O_gray, -1, window)[pad:-pad,pad:-pad]\n",
    "        mu_y = cv2.filter2D(D_gray, -1, window)[pad:-pad,pad:-pad]\n",
    "        squared_sigma_x = cv2.filter2D(O_gray**2, -1, window)[pad:-pad,pad:-pad] - mu_x**2\n",
    "        squared_sigma_y = cv2.filter2D(D_gray**2, -1, window)[pad:-pad,pad:-pad] - mu_y**2\n",
    "        sigma_x_y = cv2.filter2D(O_gray * D_gray, -1, window)[pad:-pad,pad:-pad] - (mu_x * mu_y)\n",
    "        if _essim:\n",
    "            sigma_x = cv2.filter2D(O_gray, -1, window)[pad:-pad,pad:-pad] - mu_x\n",
    "            sigma_y = cv2.filter2D(D_gray, -1, window)[pad:-pad,pad:-pad] - mu_y\n",
    "            luminance = (2 * mu_x * mu_y + C1)/(mu_x**2 + mu_y**2 + C1)\n",
    "            contrast = (2 * sigma_x * sigma_y + C1)/(sigma_x**2 + sigma_y**2 + C2)\n",
    "            return np.mean(luminance), np.mean(contrast)\n",
    "        ssim_map = ((2 * mu_x * mu_y + C1) * (2 * sigma_x_y + C2)) / ((mu_x**2 + mu_y**2 + C1) * (squared_sigma_x + squared_sigma_y + C2))\n",
    "        cs_map = (2*sigma_x_y + C2)/(squared_sigma_x + squared_sigma_y + C2)\n",
    "        if cs:\n",
    "            return np.mean(ssim_map), np.mean(cs_map)\n",
    "        return np.mean(ssim_map)\n",
    "    else:\n",
    "        return None"
   ]
  },
  {
   "cell_type": "code",
   "execution_count": 15,
   "id": "f9590b16",
   "metadata": {},
   "outputs": [],
   "source": [
    "# MS-SSIM: multi scale structural similarity (more flexible than SSIM)\n",
    "# The original and the distorted or noisy images are iteratively low-pass filtered \n",
    "# INPUT PARAMS: O (original image), D (distorted image),  ws (sliding window size), weights each scale importance (default: [0.0448, 0.2856, 0.3001, 0.2363, 0.1333])\n",
    "# Gaussian if True apply a Gaussian filter instead of mean filter for low-pass filtering (default True)\n",
    "def ms_ssim(O, D, ws,\n",
    "            weights = np.array([0.0448, 0.2856, 0.3001, 0.2363, 0.1333]),\n",
    "            Gaussian = True):\n",
    "    if check_images(O, D):\n",
    "        level = len(weights)\n",
    "        O_gray = cv2.cvtColor(O, cv2.COLOR_BGR2GRAY).astype(np.float64)\n",
    "        D_gray = cv2.cvtColor(D, cv2.COLOR_BGR2GRAY).astype(np.float64)\n",
    "        mssim = np.array([], dtype=np.float64)\n",
    "        mcs = np.array([], dtype=np.float64)\n",
    "        \n",
    "        if Gaussian:\n",
    "            # 1D kernel\n",
    "            kernel = cv2.getGaussianKernel(ws, round(ws/3.0) - 1) # the interval [-3sigma,+3 sigma] captures 99% of the area of the Faussian function\n",
    "            # 2D kernel\n",
    "            window = np.outer(kernel, kernel.transpose()) # compute the outer product of two vectors.\n",
    "        else:\n",
    "            window = np.ones((ws, ws), dtype=np.float64)/ws**2 # mean filter\n",
    "        pad = round((ws - 1) / 2)\n",
    "        \n",
    "        mu_x = cv2.filter2D(O_gray, -1, window)[pad:-pad,pad:-pad]\n",
    "        mu_y = cv2.filter2D(D_gray, -1, window)[pad:-pad,pad:-pad]\n",
    "        C1 = 0.01 # default\n",
    "        luminance = (2 * mu_x * mu_y + C1)/(mu_x**2 + mu_y**2 + C1)\n",
    "        \n",
    "        for l in range(level):\n",
    "            _ssim, _cs = ssim(O, D, ws, cs = True)\n",
    "            mssim = np.append(mssim, _ssim)\n",
    "            mcs = np.append(mcs, _cs)\n",
    "            \n",
    "            filtrered_O_gray = cv2.filter2D(O_gray, -1, window) # low - passed\n",
    "            filtrered_D_gray = cv2.filter2D(D_gray, -1, window) # low - passed\n",
    "            \n",
    "            O_gray = filtrered_O_gray[::2,::2] # down-sampling by 2\n",
    "            D_gray = filtrered_D_gray[::2,::2] # down-sampling by 2\n",
    "\n",
    "        return np.mean(luminance*np.prod(mcs[:level-1]**weights[:level-1])*(mssim[level-1]**weights[level-1]))\n",
    "            \n",
    "    else:\n",
    "        return None"
   ]
  },
  {
   "cell_type": "code",
   "execution_count": 16,
   "id": "8ee37315",
   "metadata": {},
   "outputs": [],
   "source": [
    "# Compute the edge direction histogram following the (1), (2) and (3) step described below\n",
    "# show_image if True shows the edge direction histogram for the passed Image\n",
    "def get_direction_histogram_vector(name, magnitude, orientation, histogram_size, show_image = False):\n",
    "    direction_histogram_vector = np.zeros(histogram_size + 1)\n",
    "    for i in range(orientation.shape[0] - 1):\n",
    "        for j in range(orientation.shape[1] - 1):\n",
    "            idx = round(orientation[i][j]/ 180.0 * histogram_size) # find dicrete level\n",
    "            direction_histogram_vector[idx] = direction_histogram_vector[idx] + magnitude[i][j] # accumulate pixels based on orientation\n",
    "    \n",
    "    if show_image:\n",
    "        values = np.array([])\n",
    "        for i in range(histogram_size + 1):\n",
    "            values = np.append(values, i)\n",
    "\n",
    "        plt.rcParams[\"figure.figsize\"] = [7.50, 3.50]\n",
    "        plt.rcParams[\"figure.autolayout\"] = True\n",
    "        plt.title(f'Direction Histogram Vector for {name}')\n",
    "        plt.xlabel('Edge amplitudes with the same direction')\n",
    "        plt.ylabel('Orientation discrete direction ranges');\n",
    "        plt.bar(values, direction_histogram_vector)\n",
    "\n",
    "        plt.show()\n",
    "    \n",
    "    return direction_histogram_vector"
   ]
  },
  {
   "cell_type": "code",
   "execution_count": 29,
   "id": "6da4c135",
   "metadata": {},
   "outputs": [],
   "source": [
    "# ESSIM: edge-based structural similarity (Sobel as convolutional operator -- alternative: Scharr)\n",
    "# Compares the edge information between the distorted image block and the original one\n",
    "# then replace the structure comparison by the edge-based structure comparison\n",
    "# INPUT PARAMS: O (original image), D (distorted image),  ws (sliding window size)\n",
    "# histogram_size stands for number of discrete levels in which the continual direction (0-180 grades) is divided (default = 8)\n",
    "# show_image if True shows the grayscale, gradient magnitude, and gradient orientation images to the plot\n",
    "def essim(O, D, histogram_size = 8, C3 = 0.03, show_image = False):\n",
    "    luminance, contrast = ssim(O, D, 11, _essim = True)\n",
    "    O_gray = cv2.cvtColor(O, cv2.COLOR_BGR2GRAY)\n",
    "    D_gray = cv2.cvtColor(D, cv2.COLOR_BGR2GRAY)\n",
    "    \n",
    "    # compute gradients along the x and y axis, respectively\n",
    "    O_gX = cv2.Sobel(O_gray, cv2.CV_64F, 1, 0)\n",
    "    O_gY = cv2.Sobel(O_gray, cv2.CV_64F, 0, 1)\n",
    "    # compute the gradient magnitude and orientation\n",
    "    O_magnitude = np.sqrt((O_gX ** 2) + (O_gY ** 2))\n",
    "    O_orientation = np.arctan2(O_gY, O_gX) * (180 / np.pi) % 180\n",
    "    \n",
    "    D_gX = cv2.Sobel(D_gray, cv2.CV_64F, 1, 0)\n",
    "    D_gY = cv2.Sobel(D_gray, cv2.CV_64F,  0, 1)\n",
    "    # 1) Calculate each pixel’s edge amplitude and direction\n",
    "    D_magnitude = np.sqrt((D_gX ** 2) + (D_gY ** 2))\n",
    "    D_orientation = np.arctan2(D_gY, D_gX) * (180 / np.pi) % 180\n",
    "    \n",
    "    if show_image:\n",
    "        (fig, axs) = plt.subplots(2, 3, figsize=(8, 4))\n",
    "        fig.tight_layout()\n",
    "        axs[0][0].imshow(O_gray, cmap=\"gray\")\n",
    "        axs[0][0].set_title(\"Grayscale\")\n",
    "        axs[0][1].imshow(O_magnitude, cmap=\"jet\")\n",
    "        axs[0][1].set_title(\"Gradient Magnitude\")\n",
    "        axs[0][2].imshow(O_orientation, cmap=\"jet\")\n",
    "        axs[0][2].set_title(\"Gradient Orientation [0, 180]\")\n",
    "\n",
    "        axs[1][0].imshow(D_gray, cmap=\"gray\")\n",
    "        axs[1][1].imshow(D_magnitude, cmap=\"jet\")\n",
    "        axs[1][2].imshow(D_orientation, cmap=\"jet\")\n",
    "\n",
    "        for i in range(0, 2):\n",
    "            for j in range(0, 3):\n",
    "                axs[i][j].get_xaxis().set_ticks([])\n",
    "                axs[i][j].get_yaxis().set_ticks([])\n",
    "\n",
    "        # show the plots\n",
    "        plt.tight_layout()\n",
    "        plt.show()\n",
    "    \n",
    "    \n",
    "    # 2)  Quantify each pixel’s direction as one of the histogram_size discrete directions\n",
    "    # 3) Sum up all the pixels’ edge amplitudes with the same direction in the block.\n",
    "    x_direction_histogram_vector = get_direction_histogram_vector('Original Image', O_magnitude, O_orientation, histogram_size, show_image)\n",
    "    y_direction_histogram_vector = get_direction_histogram_vector('Distorted Image', D_magnitude, D_orientation, histogram_size, show_image)\n",
    "    \n",
    "    sigma_x = np.std(x_direction_histogram_vector)\n",
    "    sigma_y = np.std(y_direction_histogram_vector)\n",
    "    sigma_x_y = np.mean(x_direction_histogram_vector * y_direction_histogram_vector) - np.mean(x_direction_histogram_vector) * np.mean(y_direction_histogram_vector)\n",
    "    return luminance*contrast*((sigma_x_y + C3)/ (sigma_x * sigma_y + C3))\n"
   ]
  },
  {
   "cell_type": "code",
   "execution_count": 30,
   "id": "0a6a7516",
   "metadata": {},
   "outputs": [
    {
     "data": {
      "text/plain": [
       "0.24915059685330018"
      ]
     },
     "execution_count": 30,
     "metadata": {},
     "output_type": "execute_result"
    }
   ],
   "source": [
    "essim(img_o, img_d)"
   ]
  },
  {
   "cell_type": "code",
   "execution_count": null,
   "id": "cb6969d2",
   "metadata": {},
   "outputs": [],
   "source": [
    "# Converts an RGB image to YIQ color space\n",
    "# :param imgRGB: An Image in RGB\n",
    "# :return: A YIQ in image color space\n",
    "def transformRGB2YIQ(imgRGB):\n",
    "    yiq_from_rgb = np.array([[0.299, 0.587, 0.114],\n",
    "                             [0.59590059, -0.27455667, -0.32134392],\n",
    "                             [0.21153661, -0.52273617, 0.31119955]])\n",
    "    shape = imgRGB.shape\n",
    "    return np.dot(imgRGB.reshape(-1,3), yiq_from_rgb.transpose()).reshape(shape)"
   ]
  },
  {
   "cell_type": "code",
   "execution_count": null,
   "id": "73e5c5b1",
   "metadata": {},
   "outputs": [],
   "source": [
    "from skimage import io, color, data"
   ]
  },
  {
   "cell_type": "code",
   "execution_count": null,
   "id": "a9480c45",
   "metadata": {},
   "outputs": [],
   "source": [
    "# A new similiraty method based on ESSIM which deals with the influence of colors when dealing in finding similiraty between two images\n",
    "# INPUT PARAMS: O (original image), D (distorted image),  ws (sliding window size)\n",
    "# histogram_size stands for number of discrete levels in which the continual direction (0-180 grades) is divided (default = 8)\n",
    "# C3, T3 & T4 are default parameters used for stability and avoid dividing by 0\n",
    "# show_image if True shows the grayscale, luminance, and chrominance images to the plot\n",
    "def essim_colors_method(O, D, histogram_size = 8, C3 = 0.03, T3 = 0.001, T4 = 0.001, display_images = False):\n",
    "    \n",
    "    # convert the original RGB color images into YIQ color space\n",
    "    # Y: the luminance information\n",
    "    # I and Q convey the chrominance information\n",
    "    # I: in-phase information\n",
    "    # Q: quadrature representing the color information\n",
    "    if O.ndim == 3: # naive method to check if O is a RGB image\n",
    "        # img_YIQ = transformRGB2YIQ(O) -> skiimage method more efficient\n",
    "        O_img_YIQ = color.rgb2yiq(O)\n",
    "        #io.imshow(O_img_YIQ)\n",
    "        O_Y = O_img_YIQ[:,:,0]\n",
    "        O_I = O_img_YIQ[:,:,1]\n",
    "        O_Q = O_img_YIQ[:,:,2]\n",
    "        D_img_YIQ = color.rgb2yiq(D)\n",
    "        D_Y = D_img_YIQ[:,:,0]\n",
    "        D_I = D_img_YIQ[:,:,1]\n",
    "        D_Q = D_img_YIQ[:,:,2]\n",
    "        \n",
    "\n",
    "        if display_images:\n",
    "            fig, axs = plt.subplots(2, 3, figsize=(8, 4))\n",
    "            axs[0][0].set_title(\"O_Y\")\n",
    "            axs[0][0].imshow(O_Y, cmap=\"gray\")\n",
    "            axs[1][0].set_title(\"D_Y\")\n",
    "            axs[1][0].imshow(D_Y, cmap=\"gray\")\n",
    "            axs[0][1].set_title(\"O_I\")\n",
    "            axs[0][1].imshow(O_I, cmap=\"jet\")\n",
    "            axs[1][1].set_title(\"D_I\")\n",
    "            axs[1][1].imshow(D_I, cmap=\"jet\")\n",
    "            axs[0][2].set_title(\"O_Q\")\n",
    "            axs[0][2].imshow(O_Q, cmap=\"jet\")\n",
    "            axs[1][2].set_title(\"D_Q\")\n",
    "            axs[1][2].imshow(D_Q, cmap=\"jet\")\n",
    "\n",
    "            for i in range(0, 2):\n",
    "                for j in range(0, 3):\n",
    "                    axs[i][j].get_xaxis().set_ticks([])\n",
    "                    axs[i][j].get_yaxis().set_ticks([])\n",
    "            plt.show()\n",
    "\n",
    "        in_phase_similarity = similarity_function(O_I, D_I, T3)\n",
    "        color_information_similarity = similarity_function(O_Q, D_Q, T4)\n",
    "        _essim = essim(img_o, img_d)\n",
    "        return np.mean(_essim*in_phase_similarity*color_information_similarity)"
   ]
  },
  {
   "cell_type": "markdown",
   "id": "0a5f0bde",
   "metadata": {},
   "source": [
    "### 2.1 Find differences using SSIM"
   ]
  },
  {
   "cell_type": "code",
   "execution_count": null,
   "id": "a822e861",
   "metadata": {},
   "outputs": [],
   "source": [
    "from skimage.metrics import structural_similarity"
   ]
  },
  {
   "cell_type": "code",
   "execution_count": null,
   "id": "196599b8",
   "metadata": {},
   "outputs": [],
   "source": [
    "# Shows the difference between two images\n",
    "# Credits: https://stackoverflow.com/questions/56183201/detect-and-visualize-differences-between-two-images-with-opencv-python\n",
    "def difference_ssim(O, D):\n",
    "    O_copy = O.copy()\n",
    "    D_copy = D.copy()\n",
    "    \n",
    "    # Convert images to grayscale\n",
    "    O_grey = cv2.cvtColor(O_copy, cv2.COLOR_BGR2GRAY)\n",
    "    D_grey = cv2.cvtColor(D_copy, cv2.COLOR_BGR2GRAY)\n",
    "    (score, diff) = structural_similarity(O_grey, D_grey, full=True)\n",
    "    \n",
    "    # The diff image contains the actual image differences between the two images\n",
    "    # and is represented as a floating point data type in the range [0,1] \n",
    "    # so we must convert the array to 8-bit unsigned integers in the range\n",
    "    # [0,255] before we can use it with OpenCV\n",
    "    diff = (diff * 255).astype(\"uint8\")\n",
    "    \n",
    "    # Threshold the difference image, followed by finding contours to\n",
    "    # obtain the regions of the two input images that differ\n",
    "    thresh = cv2.threshold(diff, 0, 255, cv2.THRESH_BINARY_INV | cv2.THRESH_OTSU)[1]\n",
    "    contours = cv2.findContours(thresh.copy(), cv2.RETR_EXTERNAL, cv2.CHAIN_APPROX_SIMPLE)\n",
    "    contours = contours[0] if len(contours) == 2 else contours[1]\n",
    "    \n",
    "    mask = np.zeros(O_copy.shape, dtype='uint8')\n",
    "    result = D_copy.copy()\n",
    "    for c in contours:\n",
    "        area = cv2.contourArea(c)\n",
    "        if area > 40:\n",
    "            x, y, w, h = cv2.boundingRect(c)\n",
    "            cv2.rectangle(O_copy, (x, y), (x + w, y + h), (36,255,12), 2)\n",
    "            cv2.rectangle(D_copy, (x, y), (x + w, y + h), (36,255,12), 2)\n",
    "            cv2.drawContours(mask, [c], 0, (0,255,0), -1)\n",
    "            cv2.drawContours(result, [c], 0, (0,255,0), -1)\n",
    "    \n",
    "    fig, axs = plt.subplots(1, 4, figsize=(8, 4))   \n",
    "    axs[0].imshow(cv2.cvtColor(O_copy, cv2.COLOR_BGR2RGB))\n",
    "    axs[0].set_title('Original Image')\n",
    "    axs[0].axis('off')\n",
    "\n",
    "    axs[1].imshow(cv2.cvtColor(D_copy, cv2.COLOR_BGR2RGB))\n",
    "    axs[1].set_title('Destination Image')\n",
    "    axs[1].axis('off')\n",
    "\n",
    "    axs[2].imshow(cv2.cvtColor(mask, cv2.COLOR_BGR2RGB))\n",
    "    axs[2].set_title('Mask')\n",
    "    axs[2].axis('off')\n",
    "\n",
    "    axs[3].imshow(cv2.cvtColor(result, cv2.COLOR_BGR2RGB))\n",
    "    axs[3].set_title('Result')\n",
    "    axs[3].axis('off')\n",
    "    plt.show()\n",
    "    "
   ]
  },
  {
   "cell_type": "markdown",
   "id": "2f67fc3e",
   "metadata": {},
   "source": [
    "## 3. Data Analysis"
   ]
  },
  {
   "cell_type": "markdown",
   "id": "e9e10999",
   "metadata": {},
   "source": [
    "### 3.1 Load two images to test IQA functions"
   ]
  },
  {
   "cell_type": "code",
   "execution_count": 9,
   "id": "cf2f46d1",
   "metadata": {},
   "outputs": [
    {
     "data": {
      "image/png": "[encoded data removed]",
      "text/plain": [
       "<Figure size 432x288 with 2 Axes>"
      ]
     },
     "metadata": {
      "needs_background": "light"
     },
     "output_type": "display_data"
    }
   ],
   "source": [
    "img_o = cv2.imread(reference_images_path + 'I01.BMP')\n",
    "img_d = cv2.imread(distorted_images_path + 'I01_01_1.BMP')\n",
    "plt.subplot(1, 2, 1)\n",
    "plt.imshow(cv2.cvtColor(img_o, cv2.COLOR_BGR2RGB))\n",
    "plt.axis('off')\n",
    "plt.subplot(1, 2, 2)\n",
    "plt.imshow(cv2.cvtColor(img_d, cv2.COLOR_BGR2RGB))\n",
    "plt.axis('off')\n",
    "plt.show()"
   ]
  },
  {
   "cell_type": "markdown",
   "id": "b05ffe8a",
   "metadata": {},
   "source": [
    "### 3.2 Image Datset\n",
    "\n",
    "In order to evaluate and compare the pripreviously developed IQA, I decided to use **TID2008** dataset which contains 1700 test images (25 reference images, 17 types of distortions for each reference image, 4 different levels of each type of distortion).\n",
    "\n",
    "Moreover the quality of any image database highly depends on the reference images which have to represent a wide variety of scenes. For that reason, the database should include different textural characteristics, various percentage of homogeneous regions, edges, and details.\n",
    "\n",
    "All images in the database are of size **512x384** pixels and are subject to the distortion described in the paper. "
   ]
  },
  {
   "cell_type": "code",
   "execution_count": null,
   "id": "f4cbdb66",
   "metadata": {},
   "outputs": [],
   "source": [
    "# first ten reference images\n",
    "fig, axs = plt.subplots(2, 5, figsize=(16, 8))\n",
    "w = 1\n",
    "for i in range(0, 2):\n",
    "    for j in range(0, 5):\n",
    "        if w < 10:\n",
    "            img = cv2.imread(reference_images_path + f'I0{w}.BMP')\n",
    "        else:\n",
    "            img = cv2.imread(reference_images_path + f'I{w}.BMP')\n",
    "        w = w + 1\n",
    "        axs[i][j].imshow(cv2.cvtColor(img, cv2.COLOR_BGR2RGB))\n",
    "        axs[i][j].axis('off')"
   ]
  },
  {
   "cell_type": "code",
   "execution_count": null,
   "id": "2f864e20",
   "metadata": {},
   "outputs": [],
   "source": [
    "# first image and all relative distorted versions\n",
    "img_o = cv2.imread('data/distorted_images/I01_01_4.bmp')\n",
    "plt.axis('off')\n",
    "plt.title('Original Image')\n",
    "plt.imshow(cv2.cvtColor(img_o, cv2.COLOR_BGR2RGB))\n",
    "plt.show()"
   ]
  },
  {
   "cell_type": "code",
   "execution_count": null,
   "id": "c2b5bd52",
   "metadata": {},
   "outputs": [],
   "source": [
    "fig, axs = plt.subplots(17, 4, figsize=(32, 16))\n",
    "fig.suptitle('Distored Images')\n",
    "for i in range(1, 18):\n",
    "    for j in range(1, 5):\n",
    "        if i < 10:\n",
    "            img = cv2.imread(distorted_images_path + f'I01_0{i}_{j}.BMP')\n",
    "        else:\n",
    "            img = cv2.imread(distorted_images_path + f'I01_{i}_{j}.BMP')\n",
    "        axs[i-1,j-1].imshow(cv2.cvtColor(img, cv2.COLOR_BGR2RGB))\n",
    "        axs[i-1,j-1].axis('off')\n",
    "        axs[i-1,j-1].set_aspect('equal')\n",
    "fig.tight_layout()\n",
    "plt.subplots_adjust(wspace=0, hspace=0.1)"
   ]
  },
  {
   "cell_type": "markdown",
   "id": "7b562e64",
   "metadata": {},
   "source": [
    "## 4. Comparison and Tests\n",
    "\n",
    "### 4.1 Using all set"
   ]
  },
  {
   "cell_type": "code",
   "execution_count": null,
   "id": "9ac56a3d",
   "metadata": {},
   "outputs": [],
   "source": [
    "# scatter plots between MOS and each IQA for each image of the dataset\n",
    "# 1) Get MOS values from text file\n",
    "file_name = 'data/mos_with_names.txt'\n",
    "# Initialize empty arrays to store data\n",
    "MOS_vector = np.array([], dtype=np.float64) # MOS value for each image\n",
    "IMG_vector = [] # for each MOS value save the relative image name\n",
    "with open(file_name) as f:\n",
    "    lines = f.readlines() # line format: 4.8056 i01_03_1.bmp\\n\n",
    "    for line in lines:\n",
    "        MOS_value = float(line.split(' ')[0])\n",
    "        img_name = 'I' + line.split(' ')[1].split('i')[1].split(\"\\n\")[0]\n",
    "        MOS_vector = np.append(MOS_vector, MOS_value)\n",
    "        IMG_vector.append(img_name)"
   ]
  },
  {
   "cell_type": "code",
   "execution_count": null,
   "id": "cbecc75b",
   "metadata": {},
   "outputs": [],
   "source": [
    "from pathlib import Path # used to check if a file exists"
   ]
  },
  {
   "cell_type": "code",
   "execution_count": null,
   "id": "0e2b2b66",
   "metadata": {},
   "outputs": [],
   "source": [
    "# Initialize empty arrays to store data for each IQA\n",
    "MSE_vector = np.array([], dtype=np.float64)\n",
    "PSNR_vector = np.array([], dtype=np.float64)\n",
    "ERGAS_vector = np.array([], dtype=np.float64)\n",
    "SSIM_vector = np.array([], dtype=np.float64)\n",
    "MSSSIM_vector = np.array([], dtype=np.float64)\n",
    "ESSIM_vector = np.array([], dtype=np.float64)\n",
    "CESSIM_vector = np.array([], dtype=np.float64)\n",
    "# Since the computation of complex algorithms for an high number of samples, compute results first and then save them into a file\n",
    "# Leverage np.load and np.save primitive to respectively load and save results stored in arrays\n",
    "if Path(\"results/mse_vector.txt\").is_file():\n",
    "    MSE_vector = np.load(\"results/mse_vector.txt\")\n",
    "if Path(\"results/psnr_vector.txt\").is_file():\n",
    "    PSNR_vector = np.load(\"results/psnr_vector.txt\")\n",
    "if Path(\"results/ssim_vector.txt\").is_file():\n",
    "    SSIM_vector = np.load(\"results/ssim_vector.txt\")\n",
    "if Path(\"results/msssim_vector.txt\").is_file():\n",
    "    MSSSIM_vector = np.load(\"results/msssim_vector.txt\")\n",
    "if Path(\"results/essim_vector.txt\").is_file():\n",
    "    ESSIM_vector = np.load(\"results/essim_vector.txt\")\n",
    "if Path(\"results/cessim_vector.txt\").is_file():\n",
    "    CESSIM_vector = np.load(\"results/cessim_vector.txt\")\n",
    "\n",
    "for img in IMG_vector: \n",
    "    img_o = cv2.imread(reference_images_path + img.split('_')[0] + '.bmp') #resamble original image starting from the name of distorted image\n",
    "    img_d = cv2.imread(distorted_images_path + img)\n",
    "    \n",
    "    MSE_vector = np.append(MSE_vector, mse(img_o, img_d))\n",
    "    PSNR_vector = np.append(PSNR_vector, psnr(img_o, img_d))\n",
    "    #ERGAS_vector = np.append(ERGAS_vector, ergas(img_o, img_d, 4, 7))\n",
    "    SSIM_vector = np.append(SSIM_vector, ssim(img_o, img_d, 7))\n",
    "    MSSSIM_vector = np.append(MSSSIM_vector, ms_ssim(img_o, img_d, 7))\n",
    "    ESSIM_vector = np.append(ESSIM_vector, essim(img_o, img_d))\n",
    "    CESSIM_vector = np.append(CESSIM_vector, essim_colors_method(img_o, img_d))\n",
    "    \n",
    "if !Path(\"results/mse_vector.txt\").is_file():\n",
    "    np.save(\"results/mse_vector.txt\", MSE_vector)\n",
    "if !Path(\"results/psnr_vector.txt\").is_file():\n",
    "    np.save(\"results/psnr_vector.txt\", PSNR_vector)\n",
    "if !Path(\"results/ssim_vector.txt\").is_file():\n",
    "    np.save(\"results/ssim_vector.txt\", SSIM_vector)\n",
    "if !Path(\"results/msssim_vector.txt\").is_file():\n",
    "    np.save(\"results/msssim_vector.txt\", MSSSIM_vector)\n",
    "if !Path(\"results/essim_vector.txt\").is_file():\n",
    "    np.save(\"results/essim_vector.txt\", ESSIM_vector)\n",
    "if !Path(\"results/cessim_vector.txt\").is_file():\n",
    "    np.save(\"results/cessim_vector.txt\", CESSIM_vector)"
   ]
  },
  {
   "cell_type": "code",
   "execution_count": null,
   "id": "f04062c1",
   "metadata": {},
   "outputs": [],
   "source": [
    "(fig, axs) = plt.subplots(2, 3, figsize=(16, 8))\n",
    "fig.tight_layout()\n",
    "axs[0][0].plot(MOS_vector, MSE_vector, \"x\")\n",
    "axs[0][0].set_ylim(0, 1000)\n",
    "axs[0][0].set_title(\"MSE\")\n",
    "axs[0][1].plot(MOS_vector, PSNR_vector, \"x\")\n",
    "axs[0][1].set_title(\"PSNR\")\n",
    "axs[0][2].plot(MOS_vector, SSIM_vector, \"x\")\n",
    "axs[0][2].set_title(\"SSIM\")\n",
    "axs[1][0].plot(MOS_vector, MSSSIM_vector, \"x\")\n",
    "axs[1][0].set_title(\"MSSSIM\")\n",
    "axs[1][1].plot(MOS_vector, np.abs(ESSIM_vector), \"x\")\n",
    "axs[1][1].set_title(\"ESSIM\")\n",
    "axs[1][2].plot(MOS_vector, np.abs(CESSIM_vector), \"x\")\n",
    "axs[1][2].set_title(\"CESSIM\")\n",
    "plt.subplots_adjust(wspace=1, hspace=1)\n",
    "\n",
    "# show the plots\n",
    "plt.tight_layout()\n",
    "plt.show()"
   ]
  },
  {
   "cell_type": "code",
   "execution_count": null,
   "id": "45d70133",
   "metadata": {},
   "outputs": [],
   "source": [
    "# https://realpython.com/numpy-scipy-pandas-correlation-python/\n",
    "# scipy.stats.rankdata():\n",
    "# mae https://scikit-learn.org/stable/modules/generated/sklearn.metrics.mean_absolute_error.html\n",
    "# metrics.mean_squared_error(y_true, y_pred, *)\n"
   ]
  },
  {
   "cell_type": "code",
   "execution_count": null,
   "id": "df04f523",
   "metadata": {},
   "outputs": [],
   "source": [
    "from sklearn.metrics import mean_absolute_error\n",
    "from sklearn.metrics import mean_squared_error\n",
    "from scipy.stats import spearmanr\n",
    "from scipy.stats import rankdata"
   ]
  },
  {
   "cell_type": "code",
   "execution_count": null,
   "id": "e2289946",
   "metadata": {},
   "outputs": [],
   "source": [
    "# cross correlation\n",
    "CC_results = [] # used later for rank data\n",
    "CC_MSE = np.corrcoef(MOS_vector, MSE_vector)\n",
    "CC_results.append(CC_MSE[0][1])\n",
    "CC_PNSR = np.corrcoef(MOS_vector, PSNR_vector)\n",
    "CC_results.append(CC_PNSR[0][1])\n",
    "CC_SSIM = np.corrcoef(MOS_vector, SSIM_vector)\n",
    "CC_results.append(CC_SSIM[0][1])\n",
    "CC_MSSSIM = np.corrcoef(MOS_vector, MSSSIM_vector)\n",
    "CC_results.append(CC_MSSSIM[0][1])\n",
    "CC_ESSIM = np.corrcoef(MOS_vector, ESSIM_vector)\n",
    "CC_results.append(CC_ESSIM[0][1])\n",
    "CC_CESSIM = np.corrcoef(MOS_vector, CESSIM_vector)\n",
    "CC_results.append(CC_CESSIM[0][1])"
   ]
  },
  {
   "cell_type": "code",
   "execution_count": null,
   "id": "309cc035",
   "metadata": {},
   "outputs": [],
   "source": [
    "# mean absolute error \n",
    "MAE_results = []\n",
    "MAE_MSE = mean_absolute_error(MOS_vector, MSE_vector)\n",
    "MAE_results.append(MAE_MSE)\n",
    "MAE_PSNR = mean_absolute_error(MOS_vector, PSNR_vector)\n",
    "MAE_results.append(MAE_PSNR)\n",
    "MAE_SSIM = mean_absolute_error(MOS_vector, SSIM_vector)\n",
    "MAE_results.append(MAE_SSIM)\n",
    "MAE_MSSSIM = mean_absolute_error(MOS_vector, MSSSIM_vector)\n",
    "MAE_results.append(MAE_MSSSIM)\n",
    "MAE_ESSIM = mean_absolute_error(MOS_vector, ESSIM_vector)\n",
    "MAE_results.append(MAE_ESSIM)\n",
    "MAE_CESSIM = mean_absolute_error(MOS_vector, CESSIM_vector)\n",
    "MAE_results.append(MAE_CESSIM)"
   ]
  },
  {
   "cell_type": "code",
   "execution_count": null,
   "id": "fca41e77",
   "metadata": {},
   "outputs": [],
   "source": [
    "# root mean squared error \n",
    "RMSE_results = []\n",
    "RMSE_MSE = mean_squared_error(MOS_vector, MSE_vector)\n",
    "RMSE_results.append(RMSE_MSE)\n",
    "RMSE_PSNR = mean_squared_error(MOS_vector, PSNR_vector)\n",
    "RMSE_results.append(RMSE_PSNR)\n",
    "RMSE_SSIM = mean_squared_error(MOS_vector, SSIM_vector)\n",
    "RMSE_results.append(RMSE_SSIM)\n",
    "RMSE_MSSSIM = mean_squared_error(MOS_vector, MSSSIM_vector)\n",
    "RMSE_results.append(RMSE_MSSSIM)\n",
    "RMSE_ESSIM = mean_squared_error(MOS_vector, ESSIM_vector)\n",
    "RMSE_results.append(RMSE_ESSIM)\n",
    "RMSE_CESSIM = mean_squared_error(MOS_vector, CESSIM_vector)\n",
    "RMSE_results.append(RMSE_CESSIM)"
   ]
  },
  {
   "cell_type": "code",
   "execution_count": null,
   "id": "0fc14dd5",
   "metadata": {},
   "outputs": [],
   "source": [
    "# outlier ratio: percentage of the number of predictions outside the range of ±2 times of the standard deviations\n",
    "def compute_outlier_ratio(vector):\n",
    "    outliers = 0\n",
    "    std = np.std(vector)\n",
    "    for element in vector:\n",
    "        if abs(element) > 2 * std:\n",
    "            outliers += 1\n",
    "    return outliers/len(vector)"
   ]
  },
  {
   "cell_type": "code",
   "execution_count": null,
   "id": "bb8c42b7",
   "metadata": {},
   "outputs": [],
   "source": [
    "OR_results = []\n",
    "OR_MSE = compute_outlier_ratio(MSE_vector)\n",
    "OR_results.append(OR_MSE)\n",
    "OR_PSNR = compute_outlier_ratio(PSNR_vector)\n",
    "OR_results.append(OR_PSNR)\n",
    "OR_SSIM = compute_outlier_ratio(SSIM_vector)\n",
    "OR_results.append(OR_SSIM)\n",
    "OR_MSSSIM = compute_outlier_ratio(MSSSIM_vector)\n",
    "OR_results.append(OR_MSSSIM)\n",
    "OR_ESSIM = compute_outlier_ratio(ESSIM_vector)\n",
    "OR_results.append(OR_ESSIM)\n",
    "OR_CESSIM = compute_outlier_ratio(CESSIM_vector)\n",
    "OR_results.append(OR_CESSIM)"
   ]
  },
  {
   "cell_type": "code",
   "execution_count": null,
   "id": "c677ad04",
   "metadata": {},
   "outputs": [],
   "source": [
    "# spearman rank-order correlation coefficient\n",
    "# reference: https://realpython.com/numpy-scipy-pandas-correlation-python/\n",
    "ROCC_results = []\n",
    "ROCC_MSE = spearmanr(MOS_vector, MSE_vector).correlation\n",
    "ROCC_results.append(ROCC_MSE)\n",
    "ROCC_PSNR = spearmanr(MOS_vector, PSNR_vector).correlation\n",
    "ROCC_results.append(ROCC_PSNR)\n",
    "ROCC_SSIM = spearmanr(MOS_vector, SSIM_vector).correlation\n",
    "ROCC_results.append(ROCC_SSIM)\n",
    "ROCC_MSSSIM = spearmanr(MOS_vector, MSSSIM_vector).correlation\n",
    "ROCC_results.append(ROCC_MSSSIM)\n",
    "ROCC_ESSIM = spearmanr(MOS_vector, ESSIM_vector).correlation\n",
    "ROCC_results.append(ROCC_ESSIM)\n",
    "ROCC_CESSIM = spearmanr(MOS_vector, CESSIM_vector).correlation\n",
    "ROCC_results.append(ROCC_CESSIM)"
   ]
  },
  {
   "cell_type": "code",
   "execution_count": null,
   "id": "7e26c689",
   "metadata": {},
   "outputs": [],
   "source": [
    "# Rank results\n",
    "print(f\"Ranked data for mean cross correlation: {rankdata(CC_results)}\")\n",
    "print(f\"Ranked data for mean absolute error: {rankdata(MAE_results)}\")\n",
    "print(f\"Ranked data for root mean square error: {rankdata(RMSE_results)}\")\n",
    "print(f\"Ranked data for outlier ratio: {rankdata(OR_results)}\")\n",
    "print(f\"Ranked data for spearman rank-order correlation coefficient: {rankdata(ROCC_results)}\")"
   ]
  },
  {
   "cell_type": "markdown",
   "id": "ea00873a",
   "metadata": {},
   "source": [
    "### 4.2 Highly Blurred Images\n",
    "\n",
    "In the next section, all previously calculation will be applied for highly blurred images subset of TID2008 dataset"
   ]
  },
  {
   "cell_type": "code",
   "execution_count": null,
   "id": "64fe630e",
   "metadata": {},
   "outputs": [],
   "source": [
    "# 1) Extract MOS value and image names for only highly blurred images\n",
    "# From the dataset paper we know that blurred images have 8 as second index and as we are looking for \n",
    "# highly blurred images, the second parameter, indicating the intensity of the distortion, we should take value 3 and 4\n",
    "# in a range of 1 to 4.\n",
    "\n",
    "MOS_vector_blurred = np.array([], dtype=np.float64) # MOS value for each image\n",
    "IMG_vector_blurred = [] # for each MOS value save the relative image name\n",
    "with open(file_name) as f:\n",
    "    lines = f.readlines() # line format: 4.8056 i01_03_1.bmp\\n\n",
    "    for line in lines:\n",
    "        MOS_value = float(line.split(' ')[0])\n",
    "        img_name = 'I' + line.split(' ')[1].split('i')[1].split(\"\\n\")[0]\n",
    "        if img_name.split('_')[1] == '08' and (img_name.split('_')[2] == '3.bmp' or img_name.split('_')[2] == '4.bmp'):\n",
    "            MOS_vector_blurred = np.append(MOS_vector_blurred, MOS_value)\n",
    "            IMG_vector_blurred.append(img_name)"
   ]
  },
  {
   "cell_type": "code",
   "execution_count": null,
   "id": "b9039694",
   "metadata": {},
   "outputs": [],
   "source": [
    "# Initialize empty arrays to store data for each IQA\n",
    "MSE_vector_blurred = np.array([], dtype=np.float64)\n",
    "PSNR_vector_blurred = np.array([], dtype=np.float64)\n",
    "ERGAS_vector_blurred = np.array([], dtype=np.float64)\n",
    "SSIM_vector_blurred = np.array([], dtype=np.float64)\n",
    "MSSSIM_vector_blurred = np.array([], dtype=np.float64)\n",
    "ESSIM_vector_blurred = np.array([], dtype=np.float64)\n",
    "CESSIM_vector_blurred = np.array([], dtype=np.float64)\n",
    "\n",
    "\n",
    "for img in IMG_vector_blurred: \n",
    "    img_o = cv2.imread(reference_images_path + img.split('_')[0] + '.bmp') #resamble original image starting from the name of distorted image\n",
    "    img_d = cv2.imread(distorted_images_path + img)\n",
    "    \n",
    "    MSE_vector_blurred = np.append(MSE_vector_blurred, mse(img_o, img_d))\n",
    "    PSNR_vector_blurred = np.append(PSNR_vector_blurred, psnr(img_o, img_d))\n",
    "    #ERGAS_vector = np.append(ERGAS_vector, ergas(img_o, img_d, 4, 7))\n",
    "    SSIM_vector_blurred = np.append(SSIM_vector_blurred, ssim(img_o, img_d, 7))\n",
    "    MSSSIM_vector_blurred = np.append(MSSSIM_vector_blurred, ms_ssim(img_o, img_d, 7))\n",
    "    ESSIM_vector_blurred = np.append(ESSIM_vector_blurred, essim(img_o, img_d))\n",
    "    CESSIM_vector_blurred = np.append(CESSIM_vector_blurred, essim_colors_method(img_o, img_d))"
   ]
  },
  {
   "cell_type": "code",
   "execution_count": null,
   "id": "b094621b",
   "metadata": {},
   "outputs": [],
   "source": [
    "(fig, axs) = plt.subplots(2, 3, figsize=(16, 8))\n",
    "fig.tight_layout()\n",
    "axs[0][0].plot(MOS_vector_blurred, MSE_vector_blurred, \"x\")\n",
    "axs[0][0].set_title(\"MSE\")\n",
    "axs[0][1].plot(MOS_vector_blurred, PSNR_vector_blurred, \"x\")\n",
    "axs[0][1].set_title(\"PSNR_blurred\")\n",
    "axs[0][2].plot(MOS_vector_blurred, SSIM_vector_blurred, \"x\")\n",
    "axs[0][2].set_title(\"SSIM_blurred\")\n",
    "axs[1][0].plot(MOS_vector_blurred, MSSSIM_vector_blurred, \"x\")\n",
    "axs[1][0].set_title(\"MSSSIM_blurred\")\n",
    "axs[1][1].plot(MOS_vector_blurred, np.abs(ESSIM_vector_blurred), \"x\")\n",
    "axs[1][1].set_title(\"ESSIM_blurred\")\n",
    "axs[1][2].plot(MOS_vector_blurred, np.abs(CESSIM_vector_blurred), \"x\")\n",
    "axs[1][2].set_title(\"CESSIM_blurred\")\n",
    "plt.subplots_adjust(wspace=1, hspace=1)\n",
    "\n",
    "# show the plots\n",
    "plt.tight_layout()\n",
    "plt.show()"
   ]
  },
  {
   "cell_type": "code",
   "execution_count": null,
   "id": "87662594",
   "metadata": {},
   "outputs": [],
   "source": [
    "# cross correlation\n",
    "CC_results_blurred = [] # used later for rank data\n",
    "CC_MSE_blurred = np.corrcoef(MOS_vector_blurred, MSE_vector_blurred)\n",
    "CC_results_blurred.append(CC_MSE_blurred[0][1])\n",
    "CC_PNSR_blurred = np.corrcoef(MOS_vector_blurred, PSNR_vector_blurred)\n",
    "CC_results_blurred.append(CC_PNSR_blurred[0][1])\n",
    "CC_SSIM_blurred = np.corrcoef(MOS_vector_blurred, SSIM_vector_blurred)\n",
    "CC_results_blurred.append(CC_SSIM_blurred[0][1])\n",
    "CC_MSSSIM_blurred = np.corrcoef(MOS_vector_blurred, MSSSIM_vector_blurred)\n",
    "CC_results_blurred.append(CC_MSSSIM_blurred[0][1])\n",
    "CC_ESSIM_blurred = np.corrcoef(MOS_vector_blurred, ESSIM_vector_blurred)\n",
    "CC_results_blurred.append(CC_ESSIM_blurred[0][1])\n",
    "CC_CESSIM_blurred = np.corrcoef(MOS_vector_blurred, CESSIM_vector_blurred)\n",
    "CC_results_blurred.append(CC_CESSIM_blurred[0][1])"
   ]
  },
  {
   "cell_type": "code",
   "execution_count": null,
   "id": "6536fdcb",
   "metadata": {},
   "outputs": [],
   "source": [
    "# mean absolute error \n",
    "MAE_results_blurred = []\n",
    "MAE_MSE_blurred = mean_absolute_error(MOS_vector_blurred, MSE_vector_blurred)\n",
    "MAE_results_blurred.append(MAE_MSE_blurred)\n",
    "MAE_PSNR_blurred = mean_absolute_error(MOS_vector_blurred, PSNR_vector_blurred)\n",
    "MAE_results_blurred.append(MAE_PSNR_blurred)\n",
    "MAE_SSIM_blurred = mean_absolute_error(MOS_vector_blurred, SSIM_vector_blurred)\n",
    "MAE_results_blurred.append(MAE_SSIM_blurred)\n",
    "MAE_MSSSIM_blurred = mean_absolute_error(MOS_vector_blurred, MSSSIM_vector_blurred)\n",
    "MAE_results_blurred.append(MAE_MSSSIM_blurred)\n",
    "MAE_ESSIM_blurred = mean_absolute_error(MOS_vector_blurred, ESSIM_vector_blurred)\n",
    "MAE_results_blurred.append(MAE_ESSIM_blurred)\n",
    "MAE_CESSIM_blurred = mean_absolute_error(MOS_vector_blurred, CESSIM_vector_blurred)\n",
    "MAE_results_blurred.append(MAE_CESSIM_blurred)"
   ]
  },
  {
   "cell_type": "code",
   "execution_count": null,
   "id": "c57fcc43",
   "metadata": {},
   "outputs": [],
   "source": [
    "# root mean squared error \n",
    "RMSE_results_blurred = []\n",
    "RMSE_MSE_blurred = mean_squared_error(MOS_vector_blurred, MSE_vector_blurred)\n",
    "RMSE_results_blurred.append(RMSE_MSE_blurred)\n",
    "RMSE_PSNR_blurred = mean_squared_error(MOS_vector_blurred, PSNR_vector_blurred)\n",
    "RMSE_results_blurred.append(RMSE_PSNR_blurred)\n",
    "RMSE_SSIM_blurred = mean_squared_error(MOS_vector_blurred, SSIM_vector_blurred)\n",
    "RMSE_results_blurred.append(RMSE_SSIM_blurred)\n",
    "RMSE_MSSSIM_blurred = mean_squared_error(MOS_vector_blurred, MSSSIM_vector_blurred)\n",
    "RMSE_results_blurred.append(RMSE_MSSSIM_blurred)\n",
    "RMSE_ESSIM_blurred = mean_squared_error(MOS_vector_blurred, ESSIM_vector_blurred)\n",
    "RMSE_results_blurred.append(RMSE_ESSIM_blurred)\n",
    "RMSE_CESSIM_blurred = mean_squared_error(MOS_vector_blurred, CESSIM_vector_blurred)\n",
    "RMSE_results_blurred.append(RMSE_CESSIM_blurred)"
   ]
  },
  {
   "cell_type": "code",
   "execution_count": null,
   "id": "c6572563",
   "metadata": {},
   "outputs": [],
   "source": [
    "OR_results_blurred = []\n",
    "OR_MSE_blurred = compute_outlier_ratio(MSE_vector_blurred)\n",
    "OR_results_blurred.append(OR_MSE_blurred)\n",
    "OR_PSNR_blurred = compute_outlier_ratio(PSNR_vector_blurred)\n",
    "OR_results_blurred.append(OR_PSNR_blurred)\n",
    "OR_SSIM_blurred = compute_outlier_ratio(SSIM_vector_blurred)\n",
    "OR_results_blurred.append(OR_SSIM_blurred)\n",
    "OR_MSSSIM_blurred = compute_outlier_ratio(MSSSIM_vector_blurred)\n",
    "OR_results_blurred.append(OR_MSSSIM_blurred)\n",
    "OR_ESSIM_blurred = compute_outlier_ratio(ESSIM_vector_blurred)\n",
    "OR_results_blurred.append(OR_ESSIM_blurred)\n",
    "OR_CESSIM_blurred = compute_outlier_ratio(CESSIM_vector_blurred)\n",
    "OR_results_blurred.append(OR_CESSIM_blurred)"
   ]
  },
  {
   "cell_type": "code",
   "execution_count": null,
   "id": "e4dbbb48",
   "metadata": {},
   "outputs": [],
   "source": [
    "OR_results_blurred"
   ]
  },
  {
   "cell_type": "code",
   "execution_count": null,
   "id": "d5feca20",
   "metadata": {},
   "outputs": [],
   "source": [
    "# spearman rank-order correlation coefficient\n",
    "# reference: https://realpython.com/numpy-scipy-pandas-correlation-python/\n",
    "ROCC_results_blurred = []\n",
    "ROCC_MSE_blurred = spearmanr(MOS_vector_blurred, MSE_vector_blurred).correlation\n",
    "ROCC_results_blurred.append(ROCC_MSE_blurred)\n",
    "ROCC_PSNR_blurred = spearmanr(MOS_vector_blurred, PSNR_vector_blurred).correlation\n",
    "ROCC_results_blurred.append(ROCC_PSNR_blurred)\n",
    "ROCC_SSIM_blurred = spearmanr(MOS_vector_blurred, SSIM_vector_blurred).correlation\n",
    "ROCC_results_blurred.append(ROCC_SSIM_blurred)\n",
    "ROCC_MSSSIM_blurred = spearmanr(MOS_vector_blurred, MSSSIM_vector_blurred).correlation\n",
    "ROCC_results_blurred.append(ROCC_MSSSIM_blurred)\n",
    "ROCC_ESSIM_blurred = spearmanr(MOS_vector_blurred, ESSIM_vector_blurred).correlation\n",
    "ROCC_results_blurred.append(ROCC_ESSIM_blurred)\n",
    "ROCC_CESSIM_blurred = spearmanr(MOS_vector_blurred, CESSIM_vector_blurred).correlation\n",
    "ROCC_results_blurred.append(ROCC_CESSIM_blurred)"
   ]
  },
  {
   "cell_type": "code",
   "execution_count": null,
   "id": "a8cbcf52",
   "metadata": {},
   "outputs": [],
   "source": [
    "# Rank results\n",
    "print(f\"Ranked data for mean cross correlation: {rankdata(CC_results_blurred)}\")\n",
    "print(f\"Ranked data for mean absolute error: {rankdata(MAE_results_blurred)}\")\n",
    "print(f\"Ranked data for root mean square error: {rankdata(RMSE_results_blurred)}\")\n",
    "print(f\"Ranked data for outlier ratio: {rankdata(OR_results_blurred)}\")\n",
    "print(f\"Ranked data for spearman rank-order correlation coefficient: {rankdata(ROCC_results_blurred)}\")"
   ]
  },
  {
   "cell_type": "markdown",
   "id": "ae6050c4",
   "metadata": {},
   "source": [
    "### 4.3 JPEG2000 Compression"
   ]
  },
  {
   "cell_type": "code",
   "execution_count": null,
   "id": "3fe1abea",
   "metadata": {},
   "outputs": [],
   "source": [
    "# 1) Extract MOS value and image names for only JPEG2000 compressed images\n",
    "# From the dataset paper we know that blurred images have 11 as second parametes\n",
    "\n",
    "\n",
    "MOS_vector_jpeg = np.array([], dtype=np.float64) # MOS value for each image\n",
    "IMG_vector_jpeg = [] # for each MOS value save the relative image name\n",
    "with open(file_name) as f:\n",
    "    lines = f.readlines() # line format: 4.8056 i01_03_1.bmp\\n\n",
    "    for line in lines:\n",
    "        MOS_value = float(line.split(' ')[0])\n",
    "        img_name = 'I' + line.split(' ')[1].split('i')[1].split(\"\\n\")[0]\n",
    "        if img_name.split('_')[1] == '11':\n",
    "            MOS_vector_jpeg = np.append(MOS_vector_jpeg, MOS_value)\n",
    "            IMG_vector_jpeg.append(img_name)"
   ]
  },
  {
   "cell_type": "code",
   "execution_count": null,
   "id": "b2ce2ba5",
   "metadata": {},
   "outputs": [],
   "source": [
    "# Initialize empty arrays to store data for each IQA\n",
    "MSE_vector_jpeg = np.array([], dtype=np.float64)\n",
    "PSNR_vector_jpeg = np.array([], dtype=np.float64)\n",
    "ERGAS_vector_jpeg = np.array([], dtype=np.float64)\n",
    "SSIM_vector_jpeg = np.array([], dtype=np.float64)\n",
    "MSSSIM_vector_jpeg = np.array([], dtype=np.float64)\n",
    "ESSIM_vector_jpeg = np.array([], dtype=np.float64)\n",
    "CESSIM_vector_jpeg = np.array([], dtype=np.float64)\n",
    "\n",
    "for img in IMG_vector_jpeg: \n",
    "    img_o = cv2.imread(reference_images_path + img.split('_')[0] + '.bmp') #resamble original image starting from the name of distorted image\n",
    "    img_d = cv2.imread(distorted_images_path + img)\n",
    "    \n",
    "    MSE_vector_jpeg = np.append(MSE_vector_jpeg, mse(img_o, img_d))\n",
    "    PSNR_vector_jpeg = np.append(PSNR_vector_jpeg, psnr(img_o, img_d))\n",
    "    #ERGAS_vector = np.append(ERGAS_vector, ergas(img_o, img_d, 4, 7))\n",
    "    SSIM_vector_jpeg = np.append(SSIM_vector_jpeg, ssim(img_o, img_d, 7))\n",
    "    MSSSIM_vector_jpeg = np.append(MSSSIM_vector_jpeg, ms_ssim(img_o, img_d, 7))\n",
    "    ESSIM_vector_jpeg = np.append(ESSIM_vector_jpeg, essim(img_o, img_d))\n",
    "    CESSIM_vector_jpeg = np.append(CESSIM_vector_jpeg, essim_colors_method(img_o, img_d))"
   ]
  },
  {
   "cell_type": "code",
   "execution_count": null,
   "id": "fda36f07",
   "metadata": {},
   "outputs": [],
   "source": [
    "(fig, axs) = plt.subplots(2, 3, figsize=(16, 8))\n",
    "fig.tight_layout()\n",
    "axs[0][0].plot(MOS_vector_jpeg, MSE_vector_jpeg, \"x\")\n",
    "axs[0][0].set_title(\"MSE_jpeg\")\n",
    "axs[0][1].plot(MOS_vector_jpeg, PSNR_vector_jpeg, \"x\")\n",
    "axs[0][1].set_title(\"PSNR_jpeg\")\n",
    "axs[0][2].plot(MOS_vector_jpeg, SSIM_vector_jpeg, \"x\")\n",
    "axs[0][2].set_title(\"SSIM_jpeg\")\n",
    "axs[1][0].plot(MOS_vector_jpeg, MSSSIM_vector_jpeg, \"x\")\n",
    "axs[1][0].set_title(\"MSSSIM_jpeg\")\n",
    "axs[1][1].plot(MOS_vector_jpeg, np.abs(ESSIM_vector_jpeg), \"x\")\n",
    "axs[1][1].set_title(\"ESSIM_jpeg\")\n",
    "axs[1][2].plot(MOS_vector_jpeg, np.abs(CESSIM_vector_jpeg), \"x\")\n",
    "axs[1][2].set_title(\"CESSIM_jpeg\")\n",
    "plt.subplots_adjust(wspace=1, hspace=1)\n",
    "\n",
    "# show the plots\n",
    "plt.tight_layout()\n",
    "plt.show()"
   ]
  },
  {
   "cell_type": "code",
   "execution_count": null,
   "id": "f0e82a06",
   "metadata": {},
   "outputs": [],
   "source": [
    "# cross correlation\n",
    "CC_results_jpeg = [] # used later for rank data\n",
    "CC_MSE_jpeg = np.corrcoef(MOS_vector_jpeg, MSE_vector_jpeg)\n",
    "CC_results_jpeg.append(CC_MSE_jpeg[0][1])\n",
    "CC_PNSR_jpeg = np.corrcoef(MOS_vector_jpeg, PSNR_vector_jpeg)\n",
    "CC_results_jpeg.append(CC_PNSR_jpeg[0][1])\n",
    "CC_SSIM_jpeg = np.corrcoef(MOS_vector_jpeg, SSIM_vector_jpeg)\n",
    "CC_results_jpeg.append(CC_SSIM_jpeg[0][1])\n",
    "CC_MSSSIM_jpeg = np.corrcoef(MOS_vector_jpeg, MSSSIM_vector_jpeg)\n",
    "CC_results_jpeg.append(CC_MSSSIM_jpeg[0][1])\n",
    "CC_ESSIM_jpeg = np.corrcoef(MOS_vector_jpeg, ESSIM_vector_jpeg)\n",
    "CC_results_jpeg.append(CC_ESSIM_jpeg[0][1])\n",
    "CC_CESSIM_jpeg = np.corrcoef(MOS_vector_jpeg, CESSIM_vector_jpeg)\n",
    "CC_results_jpeg.append(CC_CESSIM_jpeg[0][1])"
   ]
  },
  {
   "cell_type": "code",
   "execution_count": null,
   "id": "8ed1e25a",
   "metadata": {},
   "outputs": [],
   "source": [
    "# mean absolute error \n",
    "MAE_results_jpeg = []\n",
    "MAE_MSE_jpeg = mean_absolute_error(MOS_vector_jpeg, MSE_vector_jpeg)\n",
    "MAE_results_jpeg.append(MAE_MSE_jpeg)\n",
    "MAE_PSNR_jpeg = mean_absolute_error(MOS_vector_jpeg, PSNR_vector_jpeg)\n",
    "MAE_results_jpeg.append(MAE_PSNR_jpeg)\n",
    "MAE_SSIM_jpeg = mean_absolute_error(MOS_vector_jpeg, SSIM_vector_jpeg)\n",
    "MAE_results_jpeg.append(MAE_SSIM_jpeg)\n",
    "MAE_MSSSIM_jpeg = mean_absolute_error(MOS_vector_jpeg, MSSSIM_vector_jpeg)\n",
    "MAE_results_jpeg.append(MAE_MSSSIM_jpeg)\n",
    "MAE_ESSIM_jpeg = mean_absolute_error(MOS_vector_jpeg, ESSIM_vector_jpeg)\n",
    "MAE_results_jpeg.append(MAE_ESSIM_jpeg)\n",
    "MAE_CESSIM_jpeg = mean_absolute_error(MOS_vector_jpeg, CESSIM_vector_jpeg)\n",
    "MAE_results_jpeg.append(MAE_CESSIM_jpeg)"
   ]
  },
  {
   "cell_type": "code",
   "execution_count": null,
   "id": "d06e456e",
   "metadata": {},
   "outputs": [],
   "source": [
    "# root mean squared error \n",
    "RMSE_results_jpeg = []\n",
    "RMSE_MSE_jpeg = mean_squared_error(MOS_vector_jpeg, MSE_vector_jpeg)\n",
    "RMSE_results_jpeg.append(RMSE_MSE_jpeg)\n",
    "RMSE_PSNR_jpeg = mean_squared_error(MOS_vector_jpeg, PSNR_vector_jpeg)\n",
    "RMSE_results_jpeg.append(RMSE_PSNR_jpeg)\n",
    "RMSE_SSIM_jpeg = mean_squared_error(MOS_vector_jpeg, SSIM_vector_jpeg)\n",
    "RMSE_results_jpeg.append(RMSE_SSIM_jpeg)\n",
    "RMSE_MSSSIM_jpeg = mean_squared_error(MOS_vector_jpeg, MSSSIM_vector_jpeg)\n",
    "RMSE_results_jpeg.append(RMSE_MSSSIM_jpeg)\n",
    "RMSE_ESSIM_jpeg = mean_squared_error(MOS_vector_jpeg, ESSIM_vector_jpeg)\n",
    "RMSE_results_jpeg.append(RMSE_ESSIM_jpeg)\n",
    "RMSE_CESSIM_jpeg = mean_squared_error(MOS_vector_jpeg, CESSIM_vector_jpeg)\n",
    "RMSE_results_jpeg.append(RMSE_CESSIM_jpeg)"
   ]
  },
  {
   "cell_type": "code",
   "execution_count": null,
   "id": "4c598e74",
   "metadata": {},
   "outputs": [],
   "source": [
    "OR_results_jpeg = []\n",
    "OR_MSE_jpeg = compute_outlier_ratio(MSE_vector_jpeg)\n",
    "OR_results_jpeg.append(OR_MSE_jpeg)\n",
    "OR_PSNR_jpeg = compute_outlier_ratio(PSNR_vector_jpeg)\n",
    "OR_results_jpeg.append(OR_PSNR_jpeg)\n",
    "OR_SSIM_jpeg = compute_outlier_ratio(SSIM_vector_jpeg)\n",
    "OR_results_jpeg.append(OR_SSIM_jpeg)\n",
    "OR_MSSSIM_jpeg = compute_outlier_ratio(MSSSIM_vector_jpeg)\n",
    "OR_results_jpeg.append(OR_MSSSIM_jpeg)\n",
    "OR_ESSIM_jpeg = compute_outlier_ratio(ESSIM_vector_jpeg)\n",
    "OR_results_jpeg.append(OR_ESSIM_jpeg)\n",
    "OR_CESSIM_jpeg = compute_outlier_ratio(CESSIM_vector_jpeg)\n",
    "OR_results_jpeg.append(OR_CESSIM_jpeg)"
   ]
  },
  {
   "cell_type": "code",
   "execution_count": null,
   "id": "ead972b2",
   "metadata": {},
   "outputs": [],
   "source": [
    "# spearman rank-order correlation coefficient\n",
    "# reference: https://realpython.com/numpy-scipy-pandas-correlation-python/\n",
    "ROCC_results_jpeg = []\n",
    "ROCC_MSE_jpeg = spearmanr(MOS_vector_jpeg, MSE_vector_jpeg).correlation\n",
    "ROCC_results_jpeg.append(ROCC_MSE_jpeg)\n",
    "ROCC_PSNR_jpeg = spearmanr(MOS_vector_jpeg, PSNR_vector_jpeg).correlation\n",
    "ROCC_results_jpeg.append(ROCC_PSNR_jpeg)\n",
    "ROCC_SSIM_jpeg = spearmanr(MOS_vector_jpeg, SSIM_vector_jpeg).correlation\n",
    "ROCC_results_jpeg.append(ROCC_SSIM_jpeg)\n",
    "ROCC_MSSSIM_jpeg = spearmanr(MOS_vector_jpeg, MSSSIM_vector_jpeg).correlation\n",
    "ROCC_results_jpeg.append(ROCC_MSSSIM_jpeg)\n",
    "ROCC_ESSIM_jpeg = spearmanr(MOS_vector_jpeg, ESSIM_vector_jpeg).correlation\n",
    "ROCC_results_jpeg.append(ROCC_ESSIM_jpeg)\n",
    "ROCC_CESSIM_jpeg = spearmanr(MOS_vector_jpeg, CESSIM_vector_jpeg).correlation\n",
    "ROCC_results_jpeg.append(ROCC_CESSIM_jpeg)"
   ]
  },
  {
   "cell_type": "code",
   "execution_count": null,
   "id": "0cf2661c",
   "metadata": {},
   "outputs": [],
   "source": [
    "# Rank results\n",
    "print(f\"Ranked data for mean cross correlation: {rankdata(CC_results_jpeg)}\")\n",
    "print(f\"Ranked data for mean absolute error: {rankdata(MAE_results_jpeg)}\")\n",
    "print(f\"Ranked data for root mean square error: {rankdata(RMSE_results_jpeg)}\")\n",
    "print(f\"Ranked data for outlier ratio: {rankdata(OR_results_jpeg)}\")\n",
    "print(f\"Ranked data for spearman rank-order correlation coefficient: {rankdata(ROCC_results_jpeg)}\")"
   ]
  }
 ],
 "metadata": {
  "kernelspec": {
   "display_name": "CV (Python 3.9)",
   "language": "python",
   "name": "cv39"
  },
  "language_info": {
   "codemirror_mode": {
    "name": "ipython",
    "version": 3
   },
   "file_extension": ".py",
   "mimetype": "text/x-python",
   "name": "python",
   "nbconvert_exporter": "python",
   "pygments_lexer": "ipython3",
   "version": "3.9.13"
  },
  "vscode": {
   "interpreter": {
    "hash": "b0fa6594d8f4cbf19f97940f81e996739fb7646882a419484c72d19e05852a7e"
   }
  }
 },
 "nbformat": 4,
 "nbformat_minor": 5
}
